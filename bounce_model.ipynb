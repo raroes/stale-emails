{
 "cells": [
  {
   "cell_type": "markdown",
   "metadata": {},
   "source": [
    "# Bounce model\n",
    "#### This code solves the linearly time-dependent Bernouilli model using log-likelihood maximization"
   ]
  },
  {
   "cell_type": "code",
   "execution_count": 1,
   "metadata": {},
   "outputs": [],
   "source": [
    "import pandas as pd\n",
    "import numpy as np\n",
    "from scipy import optimize"
   ]
  },
  {
   "cell_type": "code",
   "execution_count": 2,
   "metadata": {},
   "outputs": [],
   "source": [
    "# maximum time allowed (time when data was gathered) in fractional time\n",
    "t0 = 2018.87\n",
    "\n",
    "input_file = \"AND_bounced_data.xlsx\""
   ]
  },
  {
   "cell_type": "code",
   "execution_count": 3,
   "metadata": {},
   "outputs": [],
   "source": [
    "bounced_data = pd.read_excel(input_file)\n",
    "\n",
    "# compute difference time between bounce time and maximum time allowed\n",
    "bounced_data.Time = t0 - bounced_data.Time"
   ]
  },
  {
   "cell_type": "code",
   "execution_count": 4,
   "metadata": {},
   "outputs": [],
   "source": [
    "# function to be minimized: linearly time-dependent Bernouilli\n",
    "def log_likelihood_function(alpha):\n",
    "    \n",
    "    # compute log-likelihood of bounce data\n",
    "    p_vector = bounced_data.Time[bounced_data.Bounced] * alpha\n",
    "    logsum_p = np.log10(p_vector).sum()\n",
    "\n",
    "    # compute log-likelihood of not-bounced data\n",
    "    q_vector = 1 - bounced_data.Time[~bounced_data.Bounced] * alpha\n",
    "    logsum_q = np.log10(q_vector).sum()\n",
    "\n",
    "    # sum both log-likelihoods\n",
    "    total_logsum = logsum_p + logsum_q\n",
    "    \n",
    "    # function will be minimized, hence return the likelihood times -1\n",
    "    return -total_logsum"
   ]
  },
  {
   "cell_type": "code",
   "execution_count": 5,
   "metadata": {},
   "outputs": [
    {
     "name": "stdout",
     "output_type": "stream",
     "text": [
      "     fun: 58.37626102019652\n",
      " message: 'Solution found.'\n",
      "    nfev: 9\n",
      "  status: 0\n",
      " success: True\n",
      "       x: 0.021027097065903593\n"
     ]
    }
   ],
   "source": [
    "# find log-likelihood maximum\n",
    "# note that bounds have to be limited because higher values would lead to negative probabilities\n",
    "solution = optimize.minimize_scalar(log_likelihood_function, bounds=[0,0.05], method='bounded')\n",
    "\n",
    "# output solution\n",
    "print(solution)"
   ]
  }
 ],
 "metadata": {
  "kernelspec": {
   "display_name": "Python3.6 (survival)",
   "language": "python",
   "name": "survival"
  },
  "language_info": {
   "codemirror_mode": {
    "name": "ipython",
    "version": 3
   },
   "file_extension": ".py",
   "mimetype": "text/x-python",
   "name": "python",
   "nbconvert_exporter": "python",
   "pygments_lexer": "ipython3",
   "version": "3.6.2"
  }
 },
 "nbformat": 4,
 "nbformat_minor": 2
}
